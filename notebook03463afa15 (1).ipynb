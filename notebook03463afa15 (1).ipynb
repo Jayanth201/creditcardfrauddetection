{
 "cells": [
  {
   "cell_type": "code",
   "execution_count": 1,
   "id": "d3aa7343",
   "metadata": {
    "_cell_guid": "b1076dfc-b9ad-4769-8c92-a6c4dae69d19",
    "_uuid": "8f2839f25d086af736a60e9eeb907d3b93b6e0e5",
    "execution": {
     "iopub.execute_input": "2022-08-23T13:44:05.408511Z",
     "iopub.status.busy": "2022-08-23T13:44:05.407757Z",
     "iopub.status.idle": "2022-08-23T13:44:05.427675Z",
     "shell.execute_reply": "2022-08-23T13:44:05.426836Z"
    },
    "papermill": {
     "duration": 0.031137,
     "end_time": "2022-08-23T13:44:05.430228",
     "exception": false,
     "start_time": "2022-08-23T13:44:05.399091",
     "status": "completed"
    },
    "tags": []
   },
   "outputs": [
    {
     "name": "stdout",
     "output_type": "stream",
     "text": [
      "/kaggle/input/creditcardfraud/creditcard.csv\n"
     ]
    }
   ],
   "source": [
    "# This Python 3 environment comes with many helpful analytics libraries installed\n",
    "# It is defined by the kaggle/python Docker image: https://github.com/kaggle/docker-python\n",
    "# For example, here's several helpful packages to load\n",
    "\n",
    "import numpy as np # linear algebra\n",
    "import pandas as pd # data processing, CSV file I/O (e.g. pd.read_csv)\n",
    "\n",
    "# Input data files are available in the read-only \"../input/\" directory\n",
    "# For example, running this (by clicking run or pressing Shift+Enter) will list all files under the input directory\n",
    "\n",
    "import os\n",
    "for dirname, _, filenames in os.walk('/kaggle/input'):\n",
    "    for filename in filenames:\n",
    "        print(os.path.join(dirname, filename))\n",
    "\n",
    "# You can write up to 20GB to the current directory (/kaggle/working/) that gets preserved as output when you create a version using \"Save & Run All\" \n",
    "# You can also write temporary files to /kaggle/temp/, but they won't be saved outside of the current session"
   ]
  },
  {
   "cell_type": "code",
   "execution_count": 2,
   "id": "77582de0",
   "metadata": {
    "execution": {
     "iopub.execute_input": "2022-08-23T13:44:05.445642Z",
     "iopub.status.busy": "2022-08-23T13:44:05.445356Z",
     "iopub.status.idle": "2022-08-23T13:44:07.415523Z",
     "shell.execute_reply": "2022-08-23T13:44:07.414006Z"
    },
    "papermill": {
     "duration": 1.980105,
     "end_time": "2022-08-23T13:44:07.417704",
     "exception": false,
     "start_time": "2022-08-23T13:44:05.437599",
     "status": "completed"
    },
    "tags": []
   },
   "outputs": [
    {
     "data": {
      "text/plain": [
       "<Figure size 432x216 with 0 Axes>"
      ]
     },
     "metadata": {},
     "output_type": "display_data"
    }
   ],
   "source": [
    "\n",
    "#Packages related to general operating system & warnings\n",
    "import os \n",
    "import warnings\n",
    "warnings.filterwarnings('ignore')\n",
    "#Packages related to data importing, manipulation, exploratory data #analysis, data understanding\n",
    "import numpy as np\n",
    "import pandas as pd\n",
    "from pandas import Series, DataFrame\n",
    "from termcolor import colored as cl # text customization\n",
    "#Packages related to data visualizaiton\n",
    "import seaborn as sns\n",
    "import matplotlib.pyplot as plt\n",
    "%matplotlib inline\n",
    "#Setting plot sizes and type of plot\n",
    "plt.rc(\"font\", size=14)\n",
    "plt.rcParams['axes.grid'] = True\n",
    "plt.figure(figsize=(6,3))\n",
    "plt.gray()\n",
    "from matplotlib.backends.backend_pdf import PdfPages\n",
    "from sklearn.model_selection import train_test_split, GridSearchCV\n",
    "from sklearn import metrics\n",
    "from sklearn.impute import MissingIndicator, SimpleImputer\n",
    "from sklearn.preprocessing import  PolynomialFeatures, KBinsDiscretizer, FunctionTransformer\n",
    "from sklearn.preprocessing import StandardScaler, MinMaxScaler, MaxAbsScaler\n",
    "from sklearn.preprocessing import LabelEncoder, OneHotEncoder, LabelBinarizer, OrdinalEncoder\n",
    "import statsmodels.formula.api as smf\n",
    "import statsmodels.tsa as tsa\n",
    "from sklearn.linear_model import LogisticRegression, LinearRegression, ElasticNet, Lasso, Ridge\n",
    "from sklearn.neighbors import KNeighborsClassifier, KNeighborsRegressor\n",
    "#from sklearn.tree import DecisionTreeClassifier, DecisionTreeRegressor, export_graphviz, export\n",
    "from sklearn.ensemble import BaggingClassifier, BaggingRegressor,RandomForestClassifier,RandomForestRegressor\n",
    "from sklearn.ensemble import GradientBoostingClassifier,GradientBoostingRegressor, AdaBoostClassifier, AdaBoostRegressor \n",
    "from sklearn.svm import LinearSVC, LinearSVR, SVC, SVR\n",
    "from xgboost import XGBClassifier\n",
    "from sklearn.metrics import f1_score\n",
    "from sklearn.metrics import accuracy_score\n",
    "from sklearn.metrics import confusion_matrix\n",
    "from sklearn.neighbors import KNeighborsClassifier\n",
    "from sklearn.tree import DecisionTreeClassifier"
   ]
  },
  {
   "cell_type": "code",
   "execution_count": 3,
   "id": "7850b569",
   "metadata": {
    "execution": {
     "iopub.execute_input": "2022-08-23T13:44:07.434247Z",
     "iopub.status.busy": "2022-08-23T13:44:07.433911Z",
     "iopub.status.idle": "2022-08-23T13:44:11.213622Z",
     "shell.execute_reply": "2022-08-23T13:44:11.212757Z"
    },
    "papermill": {
     "duration": 3.790555,
     "end_time": "2022-08-23T13:44:11.215777",
     "exception": false,
     "start_time": "2022-08-23T13:44:07.425222",
     "status": "completed"
    },
    "tags": []
   },
   "outputs": [],
   "source": [
    "data=pd.read_csv(\"../input/creditcardfraud/creditcard.csv\")\n"
   ]
  },
  {
   "cell_type": "code",
   "execution_count": 4,
   "id": "019febc8",
   "metadata": {
    "execution": {
     "iopub.execute_input": "2022-08-23T13:44:11.231006Z",
     "iopub.status.busy": "2022-08-23T13:44:11.230122Z",
     "iopub.status.idle": "2022-08-23T13:44:11.287722Z",
     "shell.execute_reply": "2022-08-23T13:44:11.285777Z"
    },
    "papermill": {
     "duration": 0.067673,
     "end_time": "2022-08-23T13:44:11.290155",
     "exception": false,
     "start_time": "2022-08-23T13:44:11.222482",
     "status": "completed"
    },
    "tags": []
   },
   "outputs": [
    {
     "name": "stdout",
     "output_type": "stream",
     "text": [
      "\u001b[1mTotal number of Trnsactions are 284807\u001b[0m\n",
      "\u001b[1mNumber of Normal Transactions are 284315\u001b[0m\n",
      "\u001b[1mNumber of fraudulent Transactions are 492\u001b[0m\n",
      "\u001b[1mPercentage of fraud Transactions is 0.17\u001b[0m\n"
     ]
    }
   ],
   "source": [
    "\n",
    "Total_transactions = len(data)\n",
    "normal = len(data[data.Class == 0])\n",
    "fraudulent = len(data[data.Class == 1])\n",
    "fraud_percentage = round(fraudulent/normal*100, 2)\n",
    "print(cl('Total number of Trnsactions are {}'.format(Total_transactions), attrs = ['bold']))\n",
    "print(cl('Number of Normal Transactions are {}'.format(normal), attrs = ['bold']))\n",
    "print(cl('Number of fraudulent Transactions are {}'.format(fraudulent), attrs = ['bold']))\n",
    "print(cl('Percentage of fraud Transactions is {}'.format(fraud_percentage), attrs = ['bold']))"
   ]
  },
  {
   "cell_type": "code",
   "execution_count": 5,
   "id": "70a25363",
   "metadata": {
    "execution": {
     "iopub.execute_input": "2022-08-23T13:44:11.304838Z",
     "iopub.status.busy": "2022-08-23T13:44:11.304479Z",
     "iopub.status.idle": "2022-08-23T13:44:11.339979Z",
     "shell.execute_reply": "2022-08-23T13:44:11.338599Z"
    },
    "papermill": {
     "duration": 0.04526,
     "end_time": "2022-08-23T13:44:11.342176",
     "exception": false,
     "start_time": "2022-08-23T13:44:11.296916",
     "status": "completed"
    },
    "tags": []
   },
   "outputs": [
    {
     "name": "stdout",
     "output_type": "stream",
     "text": [
      "<class 'pandas.core.frame.DataFrame'>\n",
      "RangeIndex: 284807 entries, 0 to 284806\n",
      "Data columns (total 31 columns):\n",
      " #   Column  Non-Null Count   Dtype  \n",
      "---  ------  --------------   -----  \n",
      " 0   Time    284807 non-null  float64\n",
      " 1   V1      284807 non-null  float64\n",
      " 2   V2      284807 non-null  float64\n",
      " 3   V3      284807 non-null  float64\n",
      " 4   V4      284807 non-null  float64\n",
      " 5   V5      284807 non-null  float64\n",
      " 6   V6      284807 non-null  float64\n",
      " 7   V7      284807 non-null  float64\n",
      " 8   V8      284807 non-null  float64\n",
      " 9   V9      284807 non-null  float64\n",
      " 10  V10     284807 non-null  float64\n",
      " 11  V11     284807 non-null  float64\n",
      " 12  V12     284807 non-null  float64\n",
      " 13  V13     284807 non-null  float64\n",
      " 14  V14     284807 non-null  float64\n",
      " 15  V15     284807 non-null  float64\n",
      " 16  V16     284807 non-null  float64\n",
      " 17  V17     284807 non-null  float64\n",
      " 18  V18     284807 non-null  float64\n",
      " 19  V19     284807 non-null  float64\n",
      " 20  V20     284807 non-null  float64\n",
      " 21  V21     284807 non-null  float64\n",
      " 22  V22     284807 non-null  float64\n",
      " 23  V23     284807 non-null  float64\n",
      " 24  V24     284807 non-null  float64\n",
      " 25  V25     284807 non-null  float64\n",
      " 26  V26     284807 non-null  float64\n",
      " 27  V27     284807 non-null  float64\n",
      " 28  V28     284807 non-null  float64\n",
      " 29  Amount  284807 non-null  float64\n",
      " 30  Class   284807 non-null  int64  \n",
      "dtypes: float64(30), int64(1)\n",
      "memory usage: 67.4 MB\n"
     ]
    }
   ],
   "source": [
    "data.info()"
   ]
  },
  {
   "cell_type": "code",
   "execution_count": 6,
   "id": "e3be15de",
   "metadata": {
    "execution": {
     "iopub.execute_input": "2022-08-23T13:44:11.357906Z",
     "iopub.status.busy": "2022-08-23T13:44:11.357538Z",
     "iopub.status.idle": "2022-08-23T13:44:11.366440Z",
     "shell.execute_reply": "2022-08-23T13:44:11.365449Z"
    },
    "papermill": {
     "duration": 0.019609,
     "end_time": "2022-08-23T13:44:11.368543",
     "exception": false,
     "start_time": "2022-08-23T13:44:11.348934",
     "status": "completed"
    },
    "tags": []
   },
   "outputs": [],
   "source": [
    "sc = StandardScaler()\n",
    "amount = data['Amount'].values\n",
    "data['Amount'] = sc.fit_transform(amount.reshape(-1, 1))"
   ]
  },
  {
   "cell_type": "code",
   "execution_count": 7,
   "id": "35b0e7d4",
   "metadata": {
    "execution": {
     "iopub.execute_input": "2022-08-23T13:44:11.382829Z",
     "iopub.status.busy": "2022-08-23T13:44:11.382521Z",
     "iopub.status.idle": "2022-08-23T13:44:11.402481Z",
     "shell.execute_reply": "2022-08-23T13:44:11.401579Z"
    },
    "papermill": {
     "duration": 0.028993,
     "end_time": "2022-08-23T13:44:11.404105",
     "exception": false,
     "start_time": "2022-08-23T13:44:11.375112",
     "status": "completed"
    },
    "tags": []
   },
   "outputs": [],
   "source": [
    "data.drop(['Time'], axis=1, inplace=True)"
   ]
  },
  {
   "cell_type": "code",
   "execution_count": 8,
   "id": "01defcee",
   "metadata": {
    "execution": {
     "iopub.execute_input": "2022-08-23T13:44:11.418034Z",
     "iopub.status.busy": "2022-08-23T13:44:11.417742Z",
     "iopub.status.idle": "2022-08-23T13:44:12.305030Z",
     "shell.execute_reply": "2022-08-23T13:44:12.304042Z"
    },
    "papermill": {
     "duration": 0.896868,
     "end_time": "2022-08-23T13:44:12.307578",
     "exception": false,
     "start_time": "2022-08-23T13:44:11.410710",
     "status": "completed"
    },
    "tags": []
   },
   "outputs": [],
   "source": [
    "data.drop_duplicates(inplace=True)"
   ]
  },
  {
   "cell_type": "code",
   "execution_count": 9,
   "id": "bcc7535c",
   "metadata": {
    "execution": {
     "iopub.execute_input": "2022-08-23T13:44:12.323485Z",
     "iopub.status.busy": "2022-08-23T13:44:12.323189Z",
     "iopub.status.idle": "2022-08-23T13:44:12.340840Z",
     "shell.execute_reply": "2022-08-23T13:44:12.339923Z"
    },
    "papermill": {
     "duration": 0.028362,
     "end_time": "2022-08-23T13:44:12.342654",
     "exception": false,
     "start_time": "2022-08-23T13:44:12.314292",
     "status": "completed"
    },
    "tags": []
   },
   "outputs": [],
   "source": [
    "X = data.drop('Class', axis = 1).values\n",
    "y = data['Class'].values"
   ]
  },
  {
   "cell_type": "code",
   "execution_count": 10,
   "id": "e07192ab",
   "metadata": {
    "execution": {
     "iopub.execute_input": "2022-08-23T13:44:12.357334Z",
     "iopub.status.busy": "2022-08-23T13:44:12.357034Z",
     "iopub.status.idle": "2022-08-23T13:44:12.471543Z",
     "shell.execute_reply": "2022-08-23T13:44:12.470861Z"
    },
    "papermill": {
     "duration": 0.124737,
     "end_time": "2022-08-23T13:44:12.474143",
     "exception": false,
     "start_time": "2022-08-23T13:44:12.349406",
     "status": "completed"
    },
    "tags": []
   },
   "outputs": [],
   "source": [
    "X_train, X_test, y_train, y_test = train_test_split(X, y, test_size = 0.25, random_state = 1)"
   ]
  },
  {
   "cell_type": "code",
   "execution_count": 11,
   "id": "c3b387a7",
   "metadata": {
    "execution": {
     "iopub.execute_input": "2022-08-23T13:44:12.489667Z",
     "iopub.status.busy": "2022-08-23T13:44:12.489165Z",
     "iopub.status.idle": "2022-08-23T13:44:18.256653Z",
     "shell.execute_reply": "2022-08-23T13:44:18.256001Z"
    },
    "papermill": {
     "duration": 5.777797,
     "end_time": "2022-08-23T13:44:18.258692",
     "exception": false,
     "start_time": "2022-08-23T13:44:12.480895",
     "status": "completed"
    },
    "tags": []
   },
   "outputs": [],
   "source": [
    "DT = DecisionTreeClassifier(max_depth = 4, criterion = 'entropy')\n",
    "DT.fit(X_train, y_train)\n",
    "tree_yhat = DT.predict(X_test)"
   ]
  },
  {
   "cell_type": "code",
   "execution_count": 12,
   "id": "e975760d",
   "metadata": {
    "execution": {
     "iopub.execute_input": "2022-08-23T13:44:18.273346Z",
     "iopub.status.busy": "2022-08-23T13:44:18.272637Z",
     "iopub.status.idle": "2022-08-23T13:44:18.281744Z",
     "shell.execute_reply": "2022-08-23T13:44:18.280433Z"
    },
    "papermill": {
     "duration": 0.018248,
     "end_time": "2022-08-23T13:44:18.283508",
     "exception": false,
     "start_time": "2022-08-23T13:44:18.265260",
     "status": "completed"
    },
    "tags": []
   },
   "outputs": [
    {
     "name": "stdout",
     "output_type": "stream",
     "text": [
      "Accuracy score of the Decision Tree model is 0.9991583957281328\n"
     ]
    }
   ],
   "source": [
    "print('Accuracy score of the Decision Tree model is {}'.format(accuracy_score(y_test, tree_yhat)))"
   ]
  },
  {
   "cell_type": "code",
   "execution_count": 13,
   "id": "8c450315",
   "metadata": {
    "execution": {
     "iopub.execute_input": "2022-08-23T13:44:18.297965Z",
     "iopub.status.busy": "2022-08-23T13:44:18.297618Z",
     "iopub.status.idle": "2022-08-23T13:44:18.315865Z",
     "shell.execute_reply": "2022-08-23T13:44:18.314865Z"
    },
    "papermill": {
     "duration": 0.027726,
     "end_time": "2022-08-23T13:44:18.317802",
     "exception": false,
     "start_time": "2022-08-23T13:44:18.290076",
     "status": "completed"
    },
    "tags": []
   },
   "outputs": [
    {
     "name": "stdout",
     "output_type": "stream",
     "text": [
      "F1 score of the Decision Tree model is 0.7521367521367521\n"
     ]
    }
   ],
   "source": [
    "print('F1 score of the Decision Tree model is {}'.format(f1_score(y_test, tree_yhat)))"
   ]
  },
  {
   "cell_type": "code",
   "execution_count": 14,
   "id": "1994e6b7",
   "metadata": {
    "execution": {
     "iopub.execute_input": "2022-08-23T13:44:18.332968Z",
     "iopub.status.busy": "2022-08-23T13:44:18.332323Z",
     "iopub.status.idle": "2022-08-23T13:44:18.352519Z",
     "shell.execute_reply": "2022-08-23T13:44:18.350931Z"
    },
    "papermill": {
     "duration": 0.030651,
     "end_time": "2022-08-23T13:44:18.355267",
     "exception": false,
     "start_time": "2022-08-23T13:44:18.324616",
     "status": "completed"
    },
    "tags": []
   },
   "outputs": [
    {
     "name": "stdout",
     "output_type": "stream",
     "text": [
      "F1 score of the Decision Tree model is 0.7521367521367521\n"
     ]
    }
   ],
   "source": [
    "print('F1 score of the Decision Tree model is {}'.format(f1_score(y_test, tree_yhat)))"
   ]
  },
  {
   "cell_type": "code",
   "execution_count": 15,
   "id": "16fe9c39",
   "metadata": {
    "execution": {
     "iopub.execute_input": "2022-08-23T13:44:18.372224Z",
     "iopub.status.busy": "2022-08-23T13:44:18.371890Z",
     "iopub.status.idle": "2022-08-23T13:44:18.385591Z",
     "shell.execute_reply": "2022-08-23T13:44:18.384603Z"
    },
    "papermill": {
     "duration": 0.024133,
     "end_time": "2022-08-23T13:44:18.387827",
     "exception": false,
     "start_time": "2022-08-23T13:44:18.363694",
     "status": "completed"
    },
    "tags": []
   },
   "outputs": [
    {
     "data": {
      "text/plain": [
       "array([[68770,    18],\n",
       "       [   40,    88]])"
      ]
     },
     "execution_count": 15,
     "metadata": {},
     "output_type": "execute_result"
    }
   ],
   "source": [
    "confusion_matrix(y_test, tree_yhat, labels = [0, 1])"
   ]
  },
  {
   "cell_type": "code",
   "execution_count": 16,
   "id": "f9017650",
   "metadata": {
    "execution": {
     "iopub.execute_input": "2022-08-23T13:44:18.402391Z",
     "iopub.status.busy": "2022-08-23T13:44:18.402083Z",
     "iopub.status.idle": "2022-08-23T13:48:10.753302Z",
     "shell.execute_reply": "2022-08-23T13:48:10.752033Z"
    },
    "papermill": {
     "duration": 232.363269,
     "end_time": "2022-08-23T13:48:10.757800",
     "exception": false,
     "start_time": "2022-08-23T13:44:18.394531",
     "status": "completed"
    },
    "tags": []
   },
   "outputs": [],
   "source": [
    "n = 7\n",
    "KNN = KNeighborsClassifier(n_neighbors = n)\n",
    "KNN.fit(X_train, y_train)\n",
    "knn_yhat = KNN.predict(X_test)"
   ]
  },
  {
   "cell_type": "code",
   "execution_count": 17,
   "id": "7e80f920",
   "metadata": {
    "execution": {
     "iopub.execute_input": "2022-08-23T13:48:10.775520Z",
     "iopub.status.busy": "2022-08-23T13:48:10.775190Z",
     "iopub.status.idle": "2022-08-23T13:48:10.785526Z",
     "shell.execute_reply": "2022-08-23T13:48:10.783960Z"
    },
    "papermill": {
     "duration": 0.022294,
     "end_time": "2022-08-23T13:48:10.789148",
     "exception": false,
     "start_time": "2022-08-23T13:48:10.766854",
     "status": "completed"
    },
    "tags": []
   },
   "outputs": [
    {
     "name": "stdout",
     "output_type": "stream",
     "text": [
      "Accuracy score of the K-Nearest Neighbors model is 0.999288989494457\n"
     ]
    }
   ],
   "source": [
    "print('Accuracy score of the K-Nearest Neighbors model is {}'.format(accuracy_score(y_test, knn_yhat)))"
   ]
  },
  {
   "cell_type": "code",
   "execution_count": 18,
   "id": "fd56f691",
   "metadata": {
    "execution": {
     "iopub.execute_input": "2022-08-23T13:48:10.806014Z",
     "iopub.status.busy": "2022-08-23T13:48:10.805646Z",
     "iopub.status.idle": "2022-08-23T13:48:10.826877Z",
     "shell.execute_reply": "2022-08-23T13:48:10.825223Z"
    },
    "papermill": {
     "duration": 0.032936,
     "end_time": "2022-08-23T13:48:10.829760",
     "exception": false,
     "start_time": "2022-08-23T13:48:10.796824",
     "status": "completed"
    },
    "tags": []
   },
   "outputs": [
    {
     "name": "stdout",
     "output_type": "stream",
     "text": [
      "F1 score of the K-Nearest Neighbors model is 0.7949790794979079\n"
     ]
    }
   ],
   "source": [
    "print('F1 score of the K-Nearest Neighbors model is {}'.format(f1_score(y_test, knn_yhat)))\n"
   ]
  },
  {
   "cell_type": "code",
   "execution_count": 19,
   "id": "f14e3240",
   "metadata": {
    "execution": {
     "iopub.execute_input": "2022-08-23T13:48:10.846264Z",
     "iopub.status.busy": "2022-08-23T13:48:10.845384Z",
     "iopub.status.idle": "2022-08-23T13:48:12.734435Z",
     "shell.execute_reply": "2022-08-23T13:48:12.733468Z"
    },
    "papermill": {
     "duration": 1.900249,
     "end_time": "2022-08-23T13:48:12.737268",
     "exception": false,
     "start_time": "2022-08-23T13:48:10.837019",
     "status": "completed"
    },
    "tags": []
   },
   "outputs": [],
   "source": [
    "lr = LogisticRegression()\n",
    "lr.fit(X_train, y_train)\n",
    "lr_yhat = lr.predict(X_test)"
   ]
  },
  {
   "cell_type": "code",
   "execution_count": 20,
   "id": "8164fcfd",
   "metadata": {
    "execution": {
     "iopub.execute_input": "2022-08-23T13:48:12.761204Z",
     "iopub.status.busy": "2022-08-23T13:48:12.760805Z",
     "iopub.status.idle": "2022-08-23T13:48:12.774449Z",
     "shell.execute_reply": "2022-08-23T13:48:12.773464Z"
    },
    "papermill": {
     "duration": 0.028675,
     "end_time": "2022-08-23T13:48:12.777220",
     "exception": false,
     "start_time": "2022-08-23T13:48:12.748545",
     "status": "completed"
    },
    "tags": []
   },
   "outputs": [
    {
     "name": "stdout",
     "output_type": "stream",
     "text": [
      "Accuracy score of the Logistic Regression model is 0.9989552498694062\n"
     ]
    }
   ],
   "source": [
    "print('Accuracy score of the Logistic Regression model is {}'.format(accuracy_score(y_test, lr_yhat)))"
   ]
  },
  {
   "cell_type": "code",
   "execution_count": 21,
   "id": "71f5570e",
   "metadata": {
    "execution": {
     "iopub.execute_input": "2022-08-23T13:48:12.799530Z",
     "iopub.status.busy": "2022-08-23T13:48:12.799178Z",
     "iopub.status.idle": "2022-08-23T13:48:12.829641Z",
     "shell.execute_reply": "2022-08-23T13:48:12.828849Z"
    },
    "papermill": {
     "duration": 0.044408,
     "end_time": "2022-08-23T13:48:12.832226",
     "exception": false,
     "start_time": "2022-08-23T13:48:12.787818",
     "status": "completed"
    },
    "tags": []
   },
   "outputs": [
    {
     "name": "stdout",
     "output_type": "stream",
     "text": [
      "F1 score of the Logistic Regression model is 0.6666666666666666\n"
     ]
    }
   ],
   "source": [
    "print('F1 score of the Logistic Regression model is {}'.format(f1_score(y_test, lr_yhat)))"
   ]
  },
  {
   "cell_type": "code",
   "execution_count": 22,
   "id": "3081467b",
   "metadata": {
    "execution": {
     "iopub.execute_input": "2022-08-23T13:48:12.854418Z",
     "iopub.status.busy": "2022-08-23T13:48:12.854120Z",
     "iopub.status.idle": "2022-08-23T13:51:35.428841Z",
     "shell.execute_reply": "2022-08-23T13:51:35.428033Z"
    },
    "papermill": {
     "duration": 202.587798,
     "end_time": "2022-08-23T13:51:35.431034",
     "exception": false,
     "start_time": "2022-08-23T13:48:12.843236",
     "status": "completed"
    },
    "tags": []
   },
   "outputs": [],
   "source": [
    "svm = SVC()\n",
    "svm.fit(X_train, y_train)\n",
    "svm_yhat = svm.predict(X_test)"
   ]
  },
  {
   "cell_type": "code",
   "execution_count": 23,
   "id": "0350b764",
   "metadata": {
    "execution": {
     "iopub.execute_input": "2022-08-23T13:51:35.447931Z",
     "iopub.status.busy": "2022-08-23T13:51:35.447011Z",
     "iopub.status.idle": "2022-08-23T13:51:35.456423Z",
     "shell.execute_reply": "2022-08-23T13:51:35.454839Z"
    },
    "papermill": {
     "duration": 0.019924,
     "end_time": "2022-08-23T13:51:35.458609",
     "exception": false,
     "start_time": "2022-08-23T13:51:35.438685",
     "status": "completed"
    },
    "tags": []
   },
   "outputs": [
    {
     "name": "stdout",
     "output_type": "stream",
     "text": [
      "Accuracy score of the Support Vector Machines model is 0.999318010331418\n"
     ]
    }
   ],
   "source": [
    "print('Accuracy score of the Support Vector Machines model is {}'.format(accuracy_score(y_test, svm_yhat)))"
   ]
  },
  {
   "cell_type": "code",
   "execution_count": 24,
   "id": "4171aff1",
   "metadata": {
    "execution": {
     "iopub.execute_input": "2022-08-23T13:51:35.474729Z",
     "iopub.status.busy": "2022-08-23T13:51:35.474446Z",
     "iopub.status.idle": "2022-08-23T13:51:35.493805Z",
     "shell.execute_reply": "2022-08-23T13:51:35.492682Z"
    },
    "papermill": {
     "duration": 0.030049,
     "end_time": "2022-08-23T13:51:35.496082",
     "exception": false,
     "start_time": "2022-08-23T13:51:35.466033",
     "status": "completed"
    },
    "tags": []
   },
   "outputs": [
    {
     "name": "stdout",
     "output_type": "stream",
     "text": [
      "F1 score of the Support Vector Machines model is 0.7813953488372093\n"
     ]
    }
   ],
   "source": [
    "print('F1 score of the Support Vector Machines model is {}'.format(f1_score(y_test, svm_yhat)))\n"
   ]
  },
  {
   "cell_type": "code",
   "execution_count": 25,
   "id": "e5a95b73",
   "metadata": {
    "execution": {
     "iopub.execute_input": "2022-08-23T13:51:35.512955Z",
     "iopub.status.busy": "2022-08-23T13:51:35.512599Z",
     "iopub.status.idle": "2022-08-23T13:52:33.851920Z",
     "shell.execute_reply": "2022-08-23T13:52:33.850985Z"
    },
    "papermill": {
     "duration": 58.350215,
     "end_time": "2022-08-23T13:52:33.854296",
     "exception": false,
     "start_time": "2022-08-23T13:51:35.504081",
     "status": "completed"
    },
    "tags": []
   },
   "outputs": [],
   "source": [
    "rf = RandomForestClassifier(max_depth = 4)\n",
    "rf.fit(X_train, y_train)\n",
    "rf_yhat = rf.predict(X_test)"
   ]
  },
  {
   "cell_type": "code",
   "execution_count": 26,
   "id": "f523d6dc",
   "metadata": {
    "execution": {
     "iopub.execute_input": "2022-08-23T13:52:33.870770Z",
     "iopub.status.busy": "2022-08-23T13:52:33.870443Z",
     "iopub.status.idle": "2022-08-23T13:52:33.880240Z",
     "shell.execute_reply": "2022-08-23T13:52:33.878825Z"
    },
    "papermill": {
     "duration": 0.020362,
     "end_time": "2022-08-23T13:52:33.882241",
     "exception": false,
     "start_time": "2022-08-23T13:52:33.861879",
     "status": "completed"
    },
    "tags": []
   },
   "outputs": [
    {
     "name": "stdout",
     "output_type": "stream",
     "text": [
      "Accuracy score of the Random Forest model is 0.9991438853096524\n"
     ]
    }
   ],
   "source": [
    "print('Accuracy score of the Random Forest model is {}'.format(accuracy_score(y_test, rf_yhat)))"
   ]
  },
  {
   "cell_type": "code",
   "execution_count": 27,
   "id": "d4512846",
   "metadata": {
    "execution": {
     "iopub.execute_input": "2022-08-23T13:52:33.898390Z",
     "iopub.status.busy": "2022-08-23T13:52:33.898086Z",
     "iopub.status.idle": "2022-08-23T13:52:33.917293Z",
     "shell.execute_reply": "2022-08-23T13:52:33.915952Z"
    },
    "papermill": {
     "duration": 0.029988,
     "end_time": "2022-08-23T13:52:33.919511",
     "exception": false,
     "start_time": "2022-08-23T13:52:33.889523",
     "status": "completed"
    },
    "tags": []
   },
   "outputs": [
    {
     "name": "stdout",
     "output_type": "stream",
     "text": [
      "F1 score of the Random Forest model is 0.728110599078341\n"
     ]
    }
   ],
   "source": [
    "print('F1 score of the Random Forest model is {}'.format(f1_score(y_test, rf_yhat)))"
   ]
  },
  {
   "cell_type": "code",
   "execution_count": 28,
   "id": "6542ab03",
   "metadata": {
    "execution": {
     "iopub.execute_input": "2022-08-23T13:52:33.935862Z",
     "iopub.status.busy": "2022-08-23T13:52:33.935536Z",
     "iopub.status.idle": "2022-08-23T13:53:03.611681Z",
     "shell.execute_reply": "2022-08-23T13:53:03.610965Z"
    },
    "papermill": {
     "duration": 29.687446,
     "end_time": "2022-08-23T13:53:03.614201",
     "exception": false,
     "start_time": "2022-08-23T13:52:33.926755",
     "status": "completed"
    },
    "tags": []
   },
   "outputs": [],
   "source": [
    "xgb = XGBClassifier(max_depth = 4)\n",
    "xgb.fit(X_train, y_train)\n",
    "xgb_yhat = xgb.predict(X_test)"
   ]
  },
  {
   "cell_type": "code",
   "execution_count": 29,
   "id": "b7fac8ca",
   "metadata": {
    "execution": {
     "iopub.execute_input": "2022-08-23T13:53:03.631124Z",
     "iopub.status.busy": "2022-08-23T13:53:03.630741Z",
     "iopub.status.idle": "2022-08-23T13:53:03.641193Z",
     "shell.execute_reply": "2022-08-23T13:53:03.639530Z"
    },
    "papermill": {
     "duration": 0.021353,
     "end_time": "2022-08-23T13:53:03.644206",
     "exception": false,
     "start_time": "2022-08-23T13:53:03.622853",
     "status": "completed"
    },
    "tags": []
   },
   "outputs": [
    {
     "name": "stdout",
     "output_type": "stream",
     "text": [
      "Accuracy score of the XGBoost model is 0.999506645771664\n"
     ]
    }
   ],
   "source": [
    "print('Accuracy score of the XGBoost model is {}'.format(accuracy_score(y_test, xgb_yhat)))"
   ]
  },
  {
   "cell_type": "code",
   "execution_count": 30,
   "id": "308a461a",
   "metadata": {
    "execution": {
     "iopub.execute_input": "2022-08-23T13:53:03.662763Z",
     "iopub.status.busy": "2022-08-23T13:53:03.661882Z",
     "iopub.status.idle": "2022-08-23T13:53:03.681576Z",
     "shell.execute_reply": "2022-08-23T13:53:03.680579Z"
    },
    "papermill": {
     "duration": 0.031236,
     "end_time": "2022-08-23T13:53:03.683638",
     "exception": false,
     "start_time": "2022-08-23T13:53:03.652402",
     "status": "completed"
    },
    "tags": []
   },
   "outputs": [
    {
     "name": "stdout",
     "output_type": "stream",
     "text": [
      "F1 score of the XGBoost model is 0.8495575221238937\n"
     ]
    }
   ],
   "source": [
    "print('F1 score of the XGBoost model is {}'.format(f1_score(y_test, xgb_yhat)))"
   ]
  }
 ],
 "metadata": {
  "kernelspec": {
   "display_name": "Python 3",
   "language": "python",
   "name": "python3"
  },
  "language_info": {
   "codemirror_mode": {
    "name": "ipython",
    "version": 3
   },
   "file_extension": ".py",
   "mimetype": "text/x-python",
   "name": "python",
   "nbconvert_exporter": "python",
   "pygments_lexer": "ipython3",
   "version": "3.7.12"
  },
  "papermill": {
   "default_parameters": {},
   "duration": 546.934655,
   "end_time": "2022-08-23T13:53:04.616640",
   "environment_variables": {},
   "exception": null,
   "input_path": "__notebook__.ipynb",
   "output_path": "__notebook__.ipynb",
   "parameters": {},
   "start_time": "2022-08-23T13:43:57.681985",
   "version": "2.3.4"
  }
 },
 "nbformat": 4,
 "nbformat_minor": 5
}
